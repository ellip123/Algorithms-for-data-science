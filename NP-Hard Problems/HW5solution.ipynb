{
 "cells": [
  {
   "cell_type": "markdown",
   "metadata": {},
   "source": [
    "# NP-Hard Problems\n",
    "\n",
    "The purpose of this assignment is to familiarize yourself with different approaches to solving NP-hard problems in practice, especially via integer programming.\n",
    "\n",
    "As in previous assignments, we will use [NetworkX](https://networkx.github.io/) to manipulate graphs and [PuLP](http://pythonhosted.org/PuLP/) to solve linear and integer programs."
   ]
  },
  {
   "cell_type": "code",
   "execution_count": 1,
   "metadata": {
    "collapsed": true
   },
   "outputs": [],
   "source": [
    "import networkx as nx\n",
    "import pulp"
   ]
  },
  {
   "cell_type": "markdown",
   "metadata": {},
   "source": [
    "We will use two graph datasets for this assignment, both available in [GML](https://en.wikipedia.org/wiki/Graph_Modelling_Language) format. The first is a well-known graph of the social network of a karate club [1]. The second is a network representing the western states power grid in the US [2]."
   ]
  },
  {
   "cell_type": "code",
   "execution_count": 2,
   "metadata": {
    "collapsed": true
   },
   "outputs": [],
   "source": [
    "karate = nx.read_gml('karate.gml')\n",
    "power = nx.read_gml('power.gml')"
   ]
  },
  {
   "cell_type": "markdown",
   "metadata": {},
   "source": [
    "[1] W. Zachary, An information flow model for conflict and fission in small groups, Journal of Anthropological Research 33, 452-473 (1977). \n",
    "\n",
    "[2] D. J. Watts and S. H. Strogatz, Collective dynamics of 'small world' networks, Nature 393, 440-442 (1998). "
   ]
  },
  {
   "cell_type": "markdown",
   "metadata": {},
   "source": [
    "## Independent Set\n",
    "\n",
    "Recall that an *independent set* in a graph is a set of nodes such that no two nodes are adjacent (connected by an edge). Finding the maximum size of an independent set in a graph is an NP-hard problem, so there is no known polynomial-time algorithm to solve it.\n",
    "\n",
    "### Problem 1\n",
    "\n",
    "Provide an *integer program* formulation for this problem. This should look identical to a linear program formulation, except you will restrict the variables corresponding to the nodes to be integer instead of fractional.\n",
    "\n",
    "The graph is denoted $G = (V, E)$. For this problem, you should use a binary variable $x_i \\in \\{0,1\\}$ for each node $i \\in N$, and you shouldn't need any other variables."
   ]
  },
  {
   "cell_type": "markdown",
   "metadata": {},
   "source": [
    "#### Solution:\n",
    "\n",
    "TODO: formulate the integer program here\n",
    "Objective:$$Max\\sum_{i=1}^{n}x_{i}$$\n",
    "Constraints:$$x_{i}+x_{j}\\leq 1\\  \\forall (i,j)\\epsilon E$$$$x_{i}\\epsilon \\left \\{ 0,1 \\right \\}$$"
   ]
  },
  {
   "cell_type": "markdown",
   "metadata": {},
   "source": [
    "### Problem 2\n",
    "\n",
    "Implement a function that solves the integer program given a graph as input."
   ]
  },
  {
   "cell_type": "code",
   "execution_count": 3,
   "metadata": {
    "collapsed": true
   },
   "outputs": [],
   "source": [
    "def independent_set_ip(graph):\n",
    "    \"\"\"Computes a maximum independent set of a graph using an integer program.\n",
    "    \n",
    "    Args:\n",
    "      - graph (nx.Graph): an undirected graph\n",
    "    \n",
    "    Returns:\n",
    "        (list[(int, int)]) The IP solution as a list of node-value pairs.\n",
    "        \n",
    "    \"\"\"    \n",
    "    # TODO: implement function\n",
    "    model = pulp.LpProblem(\"independent set problem\", pulp.LpMaximize)\n",
    "    ##set the variables\n",
    "    nodes_dic = [str(i) for i in graph.nodes()]\n",
    "    x_var = pulp.LpVariable.dict(\"x\", nodes_dic, 0, cat = pulp.LpInteger)\n",
    "    ##set the constraints\n",
    "    for node in graph.nodes():\n",
    "        model += x_var[str(node)] <= 1\n",
    "        \n",
    "    for edge in graph.edges():\n",
    "        v1 = str(edge[0])\n",
    "        v2 = str(edge[1])\n",
    "        model += x_var[v1] + x_var[v2] <= 1\n",
    "\n",
    "    #set the objective\n",
    "    model += pulp.lpSum([x_var[str(node)] for node in graph.nodes()])\n",
    "    \n",
    "    ##solve the model\n",
    "    model.solve()\n",
    "    pulp.LpStatus[model.status]\n",
    "\n",
    "    ##print the pairs\n",
    "    pairs = []\n",
    "    \n",
    "    for node in graph.nodes():\n",
    "        node_value = (int(node), int(x_var[str(node)].value()))\n",
    "        pairs.append(node_value)\n",
    "    \n",
    "    return pairs\n",
    "    pass"
   ]
  },
  {
   "cell_type": "markdown",
   "metadata": {},
   "source": [
    "The following code outputs the size of the sets computed by your function."
   ]
  },
  {
   "cell_type": "code",
   "execution_count": 4,
   "metadata": {
    "collapsed": true
   },
   "outputs": [],
   "source": [
    "def set_weight(solution):\n",
    "    \"\"\"Computes the total weight of the solution of an LP or IP for independent set.\n",
    "    \n",
    "    Args:\n",
    "      - solution (list[int, float]): the LP or IP solution\n",
    "    \n",
    "    Returns:\n",
    "      (float) Total weight of the solution\n",
    "    \n",
    "    \"\"\"\n",
    "    return sum(value for (node, value) in solution)"
   ]
  },
  {
   "cell_type": "code",
   "execution_count": 5,
   "metadata": {},
   "outputs": [
    {
     "name": "stdout",
     "output_type": "stream",
     "text": [
      "Size of karate set =  20\n",
      "Size of power set =  2738\n"
     ]
    }
   ],
   "source": [
    "karate_ind_set = independent_set_ip(karate)\n",
    "print \"Size of karate set = \", set_weight(karate_ind_set)\n",
    "power_ind_set = independent_set_ip(power)\n",
    "print \"Size of power set = \", set_weight(power_ind_set)"
   ]
  },
  {
   "cell_type": "markdown",
   "metadata": {},
   "source": [
    "### Problem 3\n",
    "\n",
    "Take the *linear programming relaxation* of your integer program and implement a function to solve it. This simply means that in your integer program, you should replace each constraint $x_i \\in \\{0,1\\}$ with $0 \\leq x_i \\leq 1$."
   ]
  },
  {
   "cell_type": "code",
   "execution_count": 6,
   "metadata": {
    "collapsed": true
   },
   "outputs": [],
   "source": [
    "def independent_set_lp(graph):\n",
    "    \"\"\"Computes the solution to the linear programming relaxation for the\n",
    "    maximum independent set problem.\n",
    "    \n",
    "    Args:\n",
    "      - graph (nx.Graph): an undirected graph\n",
    "    \n",
    "    Returns:\n",
    "        (list[(int, float)]) The LP solution as a list of node-value pairs.\n",
    "        \n",
    "    \"\"\"    \n",
    "    # TODO: implement function\n",
    "    model = pulp.LpProblem(\"independent set problem\", pulp.LpMaximize)\n",
    "    ##set the variables\n",
    "    nodes_dic = [str(i) for i in graph.nodes()]\n",
    "    x_var = pulp.LpVariable.dict(\"x\", nodes_dic, 0)\n",
    "    ##set the constraints\n",
    "    for node in graph.nodes():\n",
    "        model += x_var[str(node)] <= 1\n",
    "        \n",
    "    for edge in graph.edges():\n",
    "        v1 = str(edge[0])\n",
    "        v2 = str(edge[1])\n",
    "        model += x_var[v1] + x_var[v2] <= 1\n",
    "\n",
    "    #set the objective\n",
    "    model += pulp.lpSum([x_var[str(node)] for node in graph.nodes()])\n",
    "    \n",
    "    ##solve the model\n",
    "    model.solve()\n",
    "    pulp.LpStatus[model.status]\n",
    "\n",
    "    ##print the pairs\n",
    "    pairs = []\n",
    "    \n",
    "    for node in graph.nodes():\n",
    "        node_value = (int(node), float(x_var[str(node)].value()))\n",
    "        pairs.append(node_value)\n",
    "    \n",
    "    return pairs\n",
    "    pass"
   ]
  },
  {
   "cell_type": "markdown",
   "metadata": {},
   "source": [
    "Let's see how the LP solutions compare to those of the IP."
   ]
  },
  {
   "cell_type": "code",
   "execution_count": 7,
   "metadata": {},
   "outputs": [
    {
     "name": "stdout",
     "output_type": "stream",
     "text": [
      "Value of karate set =  20.5\n",
      "Value of power set =  2758.0\n"
     ]
    }
   ],
   "source": [
    "karate_ind_set_relax = independent_set_lp(karate)\n",
    "print \"Value of karate set = \", set_weight(karate_ind_set_relax)\n",
    "power_ind_set_relax = independent_set_lp(power)\n",
    "print \"Value of power set = \", set_weight(power_ind_set_relax)"
   ]
  },
  {
   "cell_type": "markdown",
   "metadata": {},
   "source": [
    "A heuristic way to convert a fractional solution to an independent set is as follows. For each node $i$, include the node in the set if $x_i > 1/2$, and discard it otherwise. This will yield a set of $a$ nodes which have $b$ edges between them. By removing at most one node for each edge, this yields an independent set of size at least $a - b$."
   ]
  },
  {
   "cell_type": "markdown",
   "metadata": {},
   "source": [
    "Implement this rounding procedure."
   ]
  },
  {
   "cell_type": "code",
   "execution_count": 8,
   "metadata": {
    "collapsed": true
   },
   "outputs": [],
   "source": [
    "def round_solution(solution, graph):\n",
    "    \"\"\"Finds the subgraph corresponding to the rounding of\n",
    "    a solution to the independent set LP relaxation.\n",
    "    \n",
    "    Args:\n",
    "      - solution (list[(int, float)]): LP solution\n",
    "      - graph (nx.Graph): the original graph\n",
    "      \n",
    "    Returns:\n",
    "        (nx.Graph) The subgraph corresponding to rounded solution\n",
    "    \n",
    "    \"\"\"\n",
    "    # TODO: implement function\n",
    "    subgraph = nx.Graph()\n",
    "    for v in graph.nodes():\n",
    "        subgraph.add_node(v)\n",
    "    for e in graph.edges():\n",
    "        subgraph.add_edge(e[0], e[1])\n",
    "    \n",
    "    #Remove node xi if xi>1/2\n",
    "    solution_int = [k[0] for k in solution]\n",
    "    for v in subgraph.nodes():\n",
    "        index = solution_int.index(v)\n",
    "\n",
    "        if solution[index][1] <= 1./2:\n",
    "            subgraph.remove_node(v)\n",
    "    return subgraph\n",
    "    pass"
   ]
  },
  {
   "cell_type": "markdown",
   "metadata": {},
   "source": [
    "The following function assesses the quality of the heuristic approach."
   ]
  },
  {
   "cell_type": "code",
   "execution_count": 9,
   "metadata": {
    "collapsed": true
   },
   "outputs": [],
   "source": [
    "def solution_quality(rounded, optimal):\n",
    "    \"\"\"Computes the percent optimality of the rounded solution.\n",
    "    \n",
    "    Args:\n",
    "      - rounded (nx.Graph): the graph obtained from rounded LP solution\n",
    "      - optimal: size of maximum independent set\n",
    "    \n",
    "    \"\"\"\n",
    "    num_nodes = rounded.number_of_nodes() - rounded.number_of_edges()\n",
    "    return float(num_nodes) / optimal"
   ]
  },
  {
   "cell_type": "markdown",
   "metadata": {},
   "source": [
    "Let's check the quality of this approach compared to the optimal IP solutions."
   ]
  },
  {
   "cell_type": "code",
   "execution_count": 10,
   "metadata": {},
   "outputs": [
    {
     "name": "stdout",
     "output_type": "stream",
     "text": [
      "Quality of karate rounded solution = 90%\n",
      "Quality of power rounded solution = 95%\n"
     ]
    }
   ],
   "source": [
    "karate_rounded = round_solution(karate_ind_set_relax, karate)\n",
    "karate_quality = solution_quality(karate_rounded, set_weight(karate_ind_set))\n",
    "print \"Quality of karate rounded solution = {:.0f}%\".format(karate_quality*100)\n",
    "\n",
    "power_rounded = round_solution(power_ind_set_relax, power)\n",
    "power_quality = solution_quality(power_rounded, set_weight(power_ind_set))\n",
    "print \"Quality of power rounded solution = {:.0f}%\".format(power_quality*100)"
   ]
  },
  {
   "cell_type": "code",
   "execution_count": null,
   "metadata": {
    "collapsed": true
   },
   "outputs": [],
   "source": []
  }
 ],
 "metadata": {
  "kernelspec": {
   "display_name": "Python 2",
   "language": "python",
   "name": "python2"
  },
  "language_info": {
   "codemirror_mode": {
    "name": "ipython",
    "version": 2
   },
   "file_extension": ".py",
   "mimetype": "text/x-python",
   "name": "python",
   "nbconvert_exporter": "python",
   "pygments_lexer": "ipython2",
   "version": "2.7.13"
  }
 },
 "nbformat": 4,
 "nbformat_minor": 1
}
