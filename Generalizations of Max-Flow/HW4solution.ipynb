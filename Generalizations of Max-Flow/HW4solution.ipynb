{
 "cells": [
  {
   "cell_type": "markdown",
   "metadata": {},
   "source": [
    "# Generalizations of Max-Flow\n",
    "\n",
    "The purpose of this assignment is to learn about the min-cost flow problem, a generalization of max-flow, and to familiarize yourself with implementing and solving linear programs."
   ]
  },
  {
   "cell_type": "markdown",
   "metadata": {},
   "source": [
    "## Min-Cost Flow\n",
    "\n",
    "Recall that a flow network with demands consists of a directed graph $G = (V, E)$, where each edge $(i,j) \\in E$ has a positive integer capacity $c_{ij}$ and each node $i \\in V$ has an integer demand $d_i$. In a *min-cost flow* problem, each edge $(i,j) \\in E$ also has a cost (or weight) $w_{ij}$. (Note that this input generalizes the input to two important problems we discussed so far: in max flow, the edge weights were not important while in shortest paths, the edge capacities were not important.) \n",
    "\n",
    "Given a flow network with capacities and costs, the goal is to find a *feasible* flow $f: E \\rightarrow R^+$ --that is, a flow satisfying edge capacity constraints and node demands-- that minimizes the total cost of the flow. Explicitly, the problem can be formulated as a linear program."
   ]
  },
  {
   "cell_type": "markdown",
   "metadata": {},
   "source": [
    "### Question 1\n",
    "\n",
    "Answer Problem 1 in HW4-theoretical."
   ]
  },
  {
   "cell_type": "markdown",
   "metadata": {},
   "source": [
    "### Question 2\n",
    "\n",
    "To implement your reduction from Problem 1 in HW4-theoretical, you will work with some standard benchmark instances for min-cost flow found [here](http://elib.zib.de/pub/mp-testdata/mincost/gte/index.html). The format of the data is described in the [Info](http://elib.zib.de/pub/mp-testdata/mincost/gte/info) file. You are to read in the graph from the data file in a form that can be solved using NetworkX's `min_cost_flow` function. Note that the data sometimes lists multiple edges between the same nodes, but with different costs or capacities. In forming the graph, you need to implement your reduction from the previous question and form a `DiGraph` instance, because the `min_cost_flow` function cannot handle multi-edges, even though the package offers `MultiDiGraph` objects."
   ]
  },
  {
   "cell_type": "markdown",
   "metadata": {},
   "source": [
    "The following will check that your code outputs the expected min cost flow values on several test instances."
   ]
  },
  {
   "cell_type": "code",
   "execution_count": 1,
   "metadata": {
    "collapsed": true
   },
   "outputs": [],
   "source": [
    "import networkx as nx\n",
    "\n",
    "def create_graph(infile):\n",
    "    \"\"\"Creates a directed graph as specified by the input file. Edges are annotated with 'capacity'\n",
    "    and 'weight' attributes, and nodes are annotated with 'demand' attributes.\n",
    "    \n",
    "    Args:\n",
    "        infile: the input file using the format to specify a min-cost flow problem.\n",
    "        \n",
    "    Returns:\n",
    "        A directed graph (but not a multi-graph) with edges annotated with 'capacity' and 'weight' attributes\n",
    "        and nodes annotated with 'demand' attributes.\n",
    "    \"\"\"\n",
    "\n",
    "    edges = dict()\n",
    "    nodes = dict()\n",
    "    with open(infile, 'r') as graph:\n",
    "        for line in graph.readlines():\n",
    "            line = line.split(' ')\n",
    "            if line[0] == 'n':\n",
    "                value = dict()\n",
    "                value['demand'] = int(line[2])\n",
    "                nodes[int(line[1])] = value['demand']\n",
    "                \n",
    "            if line[0] == 'a':\n",
    "                v1 = int(line[1])\n",
    "                v2 = int(line[2])\n",
    "                e = (v1, v2)\n",
    "                if e not in edges.keys():\n",
    "                    constraint = dict()\n",
    "                    constraint['capacity'] = [int(line[4])]\n",
    "                    constraint['weight'] = [float(line[5])]\n",
    "                    edges[e] = constraint\n",
    "                else:\n",
    "                    edges[e]['capacity'].append(int(line[4]))\n",
    "                    edges[e]['weight'].append(float(line[5]))\n",
    "                    \n",
    "            if line[0] == 'p':\n",
    "                idnumber = int(line[2])\n",
    "                edgenumber = int(line[3])\n",
    "    \n",
    "    \n",
    "\n",
    "    for e in edges.keys(): ##add new edges\n",
    "        if len(edges[e]['capacity']) >= 2:\n",
    "            for k in range(len(edges[e]['capacity'])):\n",
    "                idnumber = idnumber + 1\n",
    "                v1 = e[0]\n",
    "                v2 = e[1]\n",
    "                first = (v1,idnumber)  ##two new edges\n",
    "                second = (idnumber, v2) \n",
    "                constraint1 = dict()\n",
    "                constraint2 = dict()                \n",
    "                constraint1['capacity'] = edges[e]['capacity'][k]\n",
    "                constraint2['capacity'] = edges[e]['capacity'][k]\n",
    "                constraint1['weight'] = edges[e]['weight'][k]/2.\n",
    "                constraint2['weight'] = edges[e]['weight'][k]/2.               \n",
    "                edges[first] = constraint1\n",
    "                edges[second] = constraint2\n",
    "            del edges[e]\n",
    "\n",
    "    G = nx.DiGraph() ##construct a new graph\n",
    "    \n",
    "    for v in nodes: ##add nodes\n",
    "        G.add_node(v)\n",
    "        G.node[v]['demand'] = nodes[v]\n",
    "        \n",
    "    for e in edges.keys(): ##add edges\n",
    "        v1=e[0]\n",
    "        v2=e[1]\n",
    "        G.add_edge(v1, v2)\n",
    "        G.edge[v1][v2]['capacity'] = edges[(v1, v2)]['capacity']\n",
    "        G.edge[v1][v2]['weight'] = edges[(v1, v2)]['weight']       \n",
    " \n",
    "    return G"
   ]
  },
  {
   "cell_type": "code",
   "execution_count": 2,
   "metadata": {},
   "outputs": [
    {
     "name": "stdout",
     "output_type": "stream",
     "text": [
      "Correct value for _40 instance: True\n",
      "Correct value for _6830 instance: True\n",
      "Correct value for _176280 instance: True\n"
     ]
    }
   ],
   "source": [
    "G_40 = create_graph('gte_bad.40')\n",
    "G_6830 = create_graph('gte_bad.6830')\n",
    "G_176280 = create_graph('gte_bad.176280')\n",
    "\n",
    "print \"Correct value for _40 instance:\", nx.min_cost_flow_cost(G_40) == 52099553858\n",
    "print \"Correct value for _6830 instance:\", nx.min_cost_flow_cost(G_6830) == 299390431788\n",
    "print \"Correct value for _176280 instance:\", nx.min_cost_flow_cost(G_176280) == 510585093810"
   ]
  },
  {
   "cell_type": "markdown",
   "metadata": {},
   "source": [
    "## Linear Programming\n",
    "\n",
    "Instead of using special-purpose min-cost flow solvers, you will now formulate the problems as linear programs and use general-purpose LP solvers to find the solutions."
   ]
  },
  {
   "cell_type": "markdown",
   "metadata": {},
   "source": [
    "### Question 3\n",
    "\n",
    "Implement the following function to formulate the flow LP and return the optimal value (i.e., minimum cost over feasible flows)."
   ]
  },
  {
   "cell_type": "code",
   "execution_count": 3,
   "metadata": {},
   "outputs": [],
   "source": [
    "import pulp\n",
    "\n",
    "def lp_flow_value(G):\n",
    "    \"\"\"Computes the value of the minimum cost flow by formulating and solving\n",
    "    the problem as an LP.\n",
    "    \n",
    "    Args:\n",
    "        G: a directed graph with edges annotated with 'capacity' and 'weight'\n",
    "            attrbutes, and nodes annotated with 'demand' attributes.\n",
    "            \n",
    "    Returns:\n",
    "        The value of the minimum cost flow.\n",
    "    \"\"\"\n",
    "    # TODO: implement function\n",
    "    model = pulp.LpProblem(\"min-cost problem\", pulp.LpMinimize)\n",
    "    weight = dict()\n",
    "\n",
    "    ##set the variables\n",
    "    flow_dic=[str(edge) for edge in G.edges()]\n",
    "\n",
    "    flow = pulp.LpVariable.dict('flow', flow_dic, lowBound = 0, cat = pulp.LpInteger)\n",
    "    ##set the weight  \n",
    "\n",
    "    for e in G.edges():\n",
    "        weight[str(e)] = G.get_edge_data(e[0], e[1])['weight']\n",
    "\n",
    "    ##set the constraints\n",
    "    for edge in G.edges():\n",
    "        model += flow[str(edge)] <= G.get_edge_data(edge[0], edge[1])['capacity']\n",
    "    for node in G.nodes():\n",
    "        if G.node[node] == {}:\n",
    "            demand = 0\n",
    "        else:\n",
    "            demand = G.node[node]['demand']\n",
    "        \n",
    "        flow_in = 0\n",
    "        flow_out = []\n",
    "        for edge in G.edges():\n",
    "            if node == edge[1]:\n",
    "                flow_in += pulp.lpSum(flow[str(edge)])\n",
    "            if node == edge[0]:\n",
    "                flow_out += pulp.lpSum(flow[str(edge)])\n",
    "        model += flow_in - flow_out == demand\n",
    "\n",
    "    ##set the objective\n",
    "    cost=0\n",
    "    for edge in G.edges():\n",
    "        cost+=weight[str(edge)]*flow[str(edge)]\n",
    "    model += cost\n",
    "\n",
    "    model.solve()\n",
    "    pulp.LpStatus[model.status]\n",
    "\n",
    "    return(pulp.value(model.objective))\n",
    "    pass"
   ]
  },
  {
   "cell_type": "markdown",
   "metadata": {},
   "source": [
    "The following will check that the LP finds the same optimal values as previously."
   ]
  },
  {
   "cell_type": "code",
   "execution_count": 4,
   "metadata": {},
   "outputs": [
    {
     "name": "stdout",
     "output_type": "stream",
     "text": [
      "Correct value for _40 instance: True\n",
      "Correct value for _6830 instance: True\n",
      "Correct value for _176280 instance: True\n"
     ]
    }
   ],
   "source": [
    "print \"Correct value for _40 instance:\", lp_flow_value(G_40) == 52099553858\n",
    "print \"Correct value for _6830 instance:\", lp_flow_value(G_6830) == 299390431788\n",
    "print \"Correct value for _176280 instance:\", lp_flow_value(G_176280) == 510585093810"
   ]
  },
  {
   "cell_type": "code",
   "execution_count": null,
   "metadata": {
    "collapsed": true
   },
   "outputs": [],
   "source": []
  }
 ],
 "metadata": {
  "kernelspec": {
   "display_name": "Python 2",
   "language": "python",
   "name": "python2"
  },
  "language_info": {
   "codemirror_mode": {
    "name": "ipython",
    "version": 2
   },
   "file_extension": ".py",
   "mimetype": "text/x-python",
   "name": "python",
   "nbconvert_exporter": "python",
   "pygments_lexer": "ipython2",
   "version": "2.7.13"
  }
 },
 "nbformat": 4,
 "nbformat_minor": 1
}
