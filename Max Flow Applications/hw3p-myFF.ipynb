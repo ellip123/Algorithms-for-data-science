{
 "cells": [
  {
   "cell_type": "markdown",
   "metadata": {},
   "source": [
    "# Max Flow Applications\n",
    "\n",
    "The purpose of this assignment is to investigate applications of finding a Max Flow. The problem asks you to design and implement an algorithm for shipping a material between nodes with different supply and demand requirements.\n",
    "\n",
    "* Please write code *only* in the bodies of the two functions, that is, following the TODO comments.\n",
    "* Be careful not to use varibles defined outside of the functions.\n",
    "* Breaking the two above rules may lead to 0 grades."
   ]
  },
  {
   "cell_type": "markdown",
   "metadata": {},
   "source": [
    "## Movie distribution\n",
    "\n",
    "First solve Problem 3 from HW3-theoretical. \n",
    "\n",
    "Now suppose a movie distributor would like to ship a copy of a film from CA to every other state. There are therefore 48 units to ship out of CA, and each other state receives 1 unit. \n",
    "\n",
    "The dataset contiguous-usa.dat lists the adjacent states in the US. Each line lists two adjacent states; thus AK and HI are omitted, but DC is included in the data. The following code reads in the graph of US states."
   ]
  },
  {
   "cell_type": "code",
   "execution_count": 1,
   "metadata": {
    "collapsed": true
   },
   "outputs": [],
   "source": [
    "import networkx as nx\n",
    "G = nx.Graph()\n",
    "\n",
    "usa = open('contiguous-usa.dat')\n",
    "for line in usa:\n",
    "    s1, s2 = line.strip().split()\n",
    "    G.add_edge(s1, s2)"
   ]
  },
  {
   "cell_type": "markdown",
   "metadata": {},
   "source": [
    "We now encode the demands into the graph."
   ]
  },
  {
   "cell_type": "code",
   "execution_count": 2,
   "metadata": {
    "collapsed": true
   },
   "outputs": [],
   "source": [
    "for state in G.nodes():\n",
    "    if state != 'CA':\n",
    "        G.node[state]['demand'] = 1\n",
    "G.node['CA']['demand'] = -48"
   ]
  },
  {
   "cell_type": "markdown",
   "metadata": {},
   "source": [
    "We will assign a uniform capacity of 16 to each edge. Since CA has only three adjacent states, this is the smallest possible uniform capacity that allows one to ship all 48 units out of CA. As we have created an undirected graph, and flows have directions, we first convert the graph to a directed graph."
   ]
  },
  {
   "cell_type": "code",
   "execution_count": 3,
   "metadata": {
    "collapsed": true
   },
   "outputs": [],
   "source": [
    "G = nx.DiGraph(G)\n",
    "uniform_capacity = 16\n",
    "for (s1, s2) in G.edges():\n",
    "    G.edge[s1][s2]['capacity'] = uniform_capacity"
   ]
  },
  {
   "cell_type": "markdown",
   "metadata": {},
   "source": [
    "Complete the following function to implement your algorithm to find a flow with demands. Your function should work correctly for any input, not just the movie instance considered here. As always, you are encouraged to define auxiliary functions as needed for clarity."
   ]
  },
  {
   "cell_type": "code",
   "execution_count": 4,
   "metadata": {
    "collapsed": true
   },
   "outputs": [],
   "source": [
    "def flow_with_demands(graph):\n",
    "    \"\"\"Computes a flow with demands over the given graph.\n",
    "    \n",
    "    Args:\n",
    "        graph: A directed graph with nodes annotated with 'demand' properties and edges annotated with 'capacity' \n",
    "            properties.\n",
    "        \n",
    "    Returns:\n",
    "        A dict of dicts containing the flow on each edge. For instance, flow[s1][s2] should provide the flow along\n",
    "        edge (s1, s2).\n",
    "        \n",
    "    Raises:\n",
    "        NetworkXUnfeasible: An error is thrown if there is no flow satisfying the demands.\n",
    "    \"\"\"\n",
    "    # TODO: Implement the function.\n",
    "    def Search(graph, root): ##use DFS to search the components of the root\n",
    "        rootlist=[]\n",
    "        queue=[]\n",
    "        previous=dict()\n",
    "        def insearch(graph,root): \n",
    "            g = graph.neighbors(root) \n",
    "            rootlist.append(root) \n",
    "            for i in g:\n",
    "                if not i in rootlist:\n",
    "                    previous[i]=root\n",
    "                    insearch(graph,i)\n",
    "        insearch(graph,root) #call the insearch function\n",
    "        return [previous,rootlist]\n",
    "    \n",
    "    def BFS(graph, root): ##use BFS to search the components of the root\n",
    "        queue = []\n",
    "        rootlist = []\n",
    "        queue.append(root)\n",
    "        rootlist.append(root)\n",
    "        previous = dict()\n",
    "        while len(queue) > 0:\n",
    "            u = queue[0] ##put the element out of queue\n",
    "            queue = queue[1:]\n",
    "            for i in graph.neighbors(u):\n",
    "                if i not in rootlist:\n",
    "                    queue.append(i) ##put the elements into queue\n",
    "                    rootlist.append(i)\n",
    "                    previous[i] = u\n",
    "        return [previous, rootlist]\n",
    "    \n",
    "    def Augmenting_Path(s, t, graph): ####find if there exists an augmenting path in a graph. If yes, return it \n",
    "        prev, rootlist = BFS(graph, s)\n",
    "        if t in rootlist:\n",
    "            path = [t]\n",
    "            node = t\n",
    "            while node != None:          \n",
    "                if node in prev.keys():\n",
    "                    path.append(prev[node])\n",
    "                    node = prev[node]\n",
    "                else: \n",
    "                    node = None\n",
    "            path=path[::-1]\n",
    "            return path\n",
    "        else:\n",
    "            return None\n",
    "        \n",
    "    def Residual(graph, flow): ## Given the graph and flow, construct a residual graph\n",
    "        residual = nx.DiGraph() ##construct an empty directed graph\n",
    "        for (v1, v2) in graph.edges():\n",
    "            if flow[v1][v2] > 0:\n",
    "                residual.add_edge(v2, v1)\n",
    "                residual[v2][v1]['capacity'] = flow[v1][v2]\n",
    "            if flow[v1][v2] < graph[v1][v2]['capacity']:\n",
    "                residual.add_edge(v1, v2)\n",
    "                residual[v1][v2]['capacity'] = graph[v1][v2]['capacity'] - flow[v1][v2]         \n",
    "        return residual\n",
    "\n",
    "    \n",
    "    total = 0 ##calculate the total demands of all nodes and check if it is zero\n",
    "    for node in graph.nodes():\n",
    "        total = total + graph.node[node]['demand']\n",
    "    if total != 0:\n",
    "        raise nx.NetworkXUnfeasible(\"An error is thrown if there is no flow satisfying the demands.\")\n",
    "    \n",
    "    ##construct a new graph T with a new source and a new sink\n",
    "    T = graph.copy()\n",
    "    T.add_node('S')\n",
    "    nodes=T.nodes()\n",
    "    for i in nodes:\n",
    "        if i != 'S':\n",
    "            if T.node[i]['demand'] < 0:\n",
    "                T.add_edge('S', i)\n",
    "                T.edge['S'][i]['capacity'] = -T.node[i]['demand']\n",
    "    T.add_node('T')\n",
    "    for i in nodes:\n",
    "        if i != 'S' and i != 'T':\n",
    "            if T.node[i]['demand'] > 0:\n",
    "                T.add_edge(i, 'T')\n",
    "                T.edge[i]['T']['capacity'] = T.node[i]['demand']\n",
    "    \n",
    "    ##Ford-Fulkerson\n",
    "    keys = []\n",
    "    values = []\n",
    "    for v0 in T.nodes():\n",
    "        initial_flow = dict() ##set the initial flow to each edge starting from v0\n",
    "        for (v1, v2) in T.edges():\n",
    "            if v0==v1:\n",
    "                initial_flow[v2] = 0\n",
    "        values.append(initial_flow)\n",
    "        keys.append(v0)\n",
    "    flow = dict()\n",
    "    for i in range(0,len(keys)): ##add values to the flow\n",
    "        v=keys[i]\n",
    "        flow[v] = values[i]\n",
    "    Tf = Residual(T, flow) ##construct the residual graph\n",
    "    path = Augmenting_Path('S', 'T', Tf) #Find an augmenting flow\n",
    "\n",
    "    while path != None:  ##computue a new flow if there exists a s-t path in Tf\n",
    "        capacity = []\n",
    "        l=len(path)\n",
    "        for i in range(l-1): #### find the bottleneck capacity of the path\n",
    "            v1 = path[i]\n",
    "            v2 = path[i+1]\n",
    "            capacity.append(Tf.edge[v1][v2]['capacity'])\n",
    "        bottleneck = min(capacity)\n",
    "        for i in range(l-1):\n",
    "            v1 = path[i]\n",
    "            v2 = path[i+1]\n",
    "            if (v1, v2) in T.edges(): ##forward edge\n",
    "                flow[v1][v2] = flow[v1][v2] + bottleneck\n",
    "            else: ##back edge\n",
    "                flow[v2][v1] = flow[v2][v1] - bottleneck       \n",
    "        Tf_new = Residual(T, flow) ##construct a new residual graph\n",
    "        path = Augmenting_Path('S', 'T', Tf_new)\n",
    "        \n",
    "    ##calculate the max flow and check if it equals to demand      \n",
    "    maxflow = 0\n",
    "    demand = 0\n",
    "    edges=T.edges()\n",
    "    nodes=T.nodes()\n",
    "    for (v1, v2) in edges:\n",
    "        if v1 == 'S':\n",
    "            maxflow = maxflow + flow['S'][v2]\n",
    "    for i in nodes:\n",
    "        if i != 'S' and i != 'T':\n",
    "            if T.node[i]['demand'] > 0:\n",
    "                demand = demand + T.node[i]['demand']\n",
    "    if demand != maxflow:\n",
    "        raise nx.NetworkXUnfeasible(\"An error is thrown if there is no flow satisfying the demands.\")\n",
    "    else: ##delete source 'S' and sink 'T'\n",
    "        keys=flow.keys()\n",
    "        for i in keys:\n",
    "            if 'T' in flow[i].keys():\n",
    "                del flow[i]['T']\n",
    "            if 'S' in flow[i].keys():\n",
    "                del flow[i]['S']\n",
    "        del flow['S']\n",
    "        del flow['T']\n",
    "        return flow\n",
    "        \n",
    "\n"
   ]
  },
  {
   "cell_type": "markdown",
   "metadata": {},
   "source": [
    "To verify that your solution is correct, implement a function that computes the total flow into each node (which will be negative for supply nodes)."
   ]
  },
  {
   "cell_type": "code",
   "execution_count": 5,
   "metadata": {
    "collapsed": true
   },
   "outputs": [],
   "source": [
    "def divergence(flow):\n",
    "    \"\"\"Computes the total flow into each node according to the given flow dict.\n",
    "    \n",
    "    Args:\n",
    "        flow: the flow dict recording flow between nodes.\n",
    "        \n",
    "    Returns:\n",
    "        A dict of the net flow into each node.\n",
    "    \"\"\"\n",
    "    # TODO: Implement the function.\n",
    "    f_in = {}\n",
    "    f_out = {}\n",
    "    f = {}\n",
    "    keys=flow.keys()\n",
    "    f_out = {i: 0 for i in keys} ##the flow-out dictionary\n",
    "    f_in = {i: 0 for i in keys} ##the flow-in dictionary\n",
    "    for v1 in keys:\n",
    "        f_out[v1] = sum(flow[v1].values())\n",
    "        for v2 in flow[v1].keys():\n",
    "            f_in[v2] = f_in[v2] + flow[v1][v2]\n",
    "    f = {i: 0 for i in keys}\n",
    "    for i in flow.keys():\n",
    "        f[i] = f_in[i] - f_out[i] ##A dict of the net flow into each node\n",
    "    return f"
   ]
  },
  {
   "cell_type": "markdown",
   "metadata": {},
   "source": [
    "The following code performs a sanity check on your function (but does not completely confirm correctness)."
   ]
  },
  {
   "cell_type": "code",
   "execution_count": 6,
   "metadata": {},
   "outputs": [
    {
     "name": "stdout",
     "output_type": "stream",
     "text": [
      "Flow satisfies all demands: True\n"
     ]
    }
   ],
   "source": [
    "flow = flow_with_demands(G)\n",
    "div = divergence(flow)\n",
    "print \"Flow satisfies all demands:\", all(div[n] == G.node[n]['demand'] for n in G.nodes())"
   ]
  }
 ],
 "metadata": {
  "kernelspec": {
   "display_name": "Python 2",
   "language": "python",
   "name": "python2"
  },
  "language_info": {
   "codemirror_mode": {
    "name": "ipython",
    "version": 2
   },
   "file_extension": ".py",
   "mimetype": "text/x-python",
   "name": "python",
   "nbconvert_exporter": "python",
   "pygments_lexer": "ipython2",
   "version": "2.7.13"
  }
 },
 "nbformat": 4,
 "nbformat_minor": 1
}
